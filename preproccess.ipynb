{
 "cells": [
  {
   "cell_type": "code",
   "execution_count": null,
   "metadata": {},
   "outputs": [
    {
     "ename": "",
     "evalue": "",
     "output_type": "error",
     "traceback": [
      "\u001b[1;31mRunning cells with 'Python 3.13.0' requires the ipykernel package.\n",
      "\u001b[1;31mRun the following command to install 'ipykernel' into the Python environment. \n",
      "\u001b[1;31mCommand: '/opt/homebrew/bin/python3 -m pip install ipykernel -U --user --force-reinstall'"
     ]
    }
   ],
   "source": [
    "import pandas as pd\n",
    "\n",
    "df = pd.read_csv('data.csv')\n",
    "df.dtypes\n",
    "df = df.rename(columns={'Personalized_Recommendation_Frequency': 'Personalized_Recommendation_Purchase'})\n"
   ]
  },
  {
   "cell_type": "code",
   "execution_count": null,
   "metadata": {},
   "outputs": [],
   "source": [
    "df['Timestamp'] = pd.to_datetime(df['Timestamp'])\n",
    "df['Gender'] = df['Gender'].astype('category')\n",
    "df['Personalized_Recommendation_Purchase'] = df['Personalized_Recommendation_Purchase'].astype('category')\n",
    "df['Review_Left'] = df['Review_Left'].astype('category')\n",
    "df['Review_Helpfulness'] = df['Review_Helpfulness'].astype('category')\n",
    "df['Review_Reliability'] = df['Review_Reliability'].astype('category')\n",
    "df['Recommendation_Helpfulness'] = df['Recommendation_Helpfulness'].astype('category')\n",
    "df['Add_to_Cart_Browsing'] = df['Add_to_Cart_Browsing'].astype('category')\n",
    "df['Cart_Completion_Frequency'] = df['Cart_Completion_Frequency'].astype('category')\n",
    "df['Purchase_Categories'] = df['Purchase_Categories'].astype('category')\n",
    "df['Purchase_Frequency'] = df['Purchase_Frequency'].astype('category')\n",
    "df['Browsing_Frequency'] = df['Browsing_Frequency'].astype('category')\n",
    "df['Product_Search_Method'] = df['Product_Search_Method'].astype('category')\n",
    "df['Search_Result_Exploration'] = df['Search_Result_Exploration'].astype('category')\n",
    "df['Saveforlater_Frequency'] = df['Saveforlater_Frequency'].astype('category')"
   ]
  },
  {
   "cell_type": "code",
   "execution_count": null,
   "metadata": {},
   "outputs": [],
   "source": [
    "missing_values = df.isnull().sum()\n",
    "missing_percentage = (missing_values / len(df)) * 100\n",
    "missing_report = pd.DataFrame({\n",
    "    'Missing Values': missing_values,\n",
    "    'Percentage (%)': missing_percentage\n",
    "})\n",
    "display(missing_report[missing_report['Missing Values'] > 0])"
   ]
  },
  {
   "cell_type": "code",
   "execution_count": null,
   "metadata": {},
   "outputs": [],
   "source": [
    "custom_missing = [\"Nothing\", \".\", \"Nil\"]\n",
    "df.replace(custom_missing, pd.NA, inplace=True)"
   ]
  },
  {
   "cell_type": "code",
   "execution_count": null,
   "metadata": {},
   "outputs": [],
   "source": [
    "print(df.describe())\n",
    "\n",
    "for col in df.select_dtypes(['category']).columns:\n",
    "    print(f\"\\nUnique values in {col}:\")\n",
    "    print(df[col].value_counts(dropna=False))\n"
   ]
  },
  {
   "cell_type": "markdown",
   "metadata": {},
   "source": [
    "Yulduz Contribution"
   ]
  },
  {
   "cell_type": "code",
   "execution_count": null,
   "metadata": {},
   "outputs": [],
   "source": [
    "#Yulduz Muradova\n",
    "#age numerical data \n",
    "numerical_cols = ['age']\n",
    "\n",
    "def detect_outliers(df, column):\n",
    "    Q1 = df[column].quantile(0.25)\n",
    "    Q3 = df[column].quantile(0.75)\n",
    "    IQR = Q3 - Q1\n",
    "    lower_bound = Q1 - 1.5 * IQR\n",
    "    upper_bound = Q3 + 1.5 * IQR\n",
    "    outliers = df[(df[column] < lower_bound) | (df[column] > upper_bound)][column]\n",
    "    return outliers, lower_bound, upper_bound\n",
    "\n",
    "#  detailed outlier information\n",
    "for column in numerical_cols:\n",
    "    outliers, lower, upper = detect_outliers(df, column)\n",
    "    print(f\"\\nOutliers in {column}:\")\n",
    "    print(f\"Number of outliers: {len(outliers)}\")\n",
    "    print(f\"Percentage of outliers: {(len(outliers) / len(df) * 100):.2f}%\")\n",
    "    print(f\"Boundary range: {lower:.2f} to {upper:.2f}\")\n",
    "    if len(outliers) > 0:\n",
    "        print(\"Outlier values:\", sorted(outliers.values))\n",
    "\n",
    "# Additional visualization for age distribution\n",
    "plt.figure(figsize=(10, 5))\n",
    "sns.histplot(data=df, x='age', bins=30)\n",
    "plt.title('Age Distribution')\n",
    "plt.show()\n",
    "\n",
    "# Age groups analysis\n",
    "age_bins = [0, 18, 30, 50, 70, 100]\n",
    "age_labels = ['Under 18', '18-30', '31-50', '51-70', 'Over 70']\n",
    "df['age_group'] = pd.cut(df['age'], bins=age_bins, labels=age_labels)\n",
    "print(\"\\nAge group distribution:\")\n",
    "print(df['age_group'].value_counts().sort_index())\n",
    "\n",
    "# Suspicious ages analysis\n",
    "suspicious_ages = df[df['age'] < 16]\n",
    "print(\"\\nSuspicious ages (under 16):\")\n",
    "if len(suspicious_ages) > 0:\n",
    "    print(suspicious_ages['age'].value_counts().sort_index())\n",
    "else:\n",
    "    print(\"No suspicious ages found under 16\")"
   ]
  },
  {
   "cell_type": "markdown",
   "metadata": {},
   "source": [
    "Cleaned outliers for age "
   ]
  },
  {
   "cell_type": "code",
   "execution_count": null,
   "metadata": {},
   "outputs": [],
   "source": [
    "#Yulduz Muradova\n",
    "df_cleaned = df.copy()\n",
    "\n",
    "# Remove suspicious ages (under 16)\n",
    "df_cleaned = df_cleaned[df_cleaned['age'] >= 16]\n",
    "\n",
    "# Verify the cleaning\n",
    "print(\"Original dataset size:\", len(df))\n",
    "print(\"Cleaned dataset size:\", len(df_cleaned))\n",
    "print(\"Number of records removed:\", len(df) - len(df_cleaned))\n",
    "\n",
    "print(\"\\nNew age statistics:\")\n",
    "print(df_cleaned['age'].describe())\n",
    "\n",
    "# New age group distribution with corrected labels\n",
    "df_cleaned['age_group'] = pd.cut(df_cleaned['age'], \n",
    "                                bins=[16, 18, 30, 50, 70, 100],\n",
    "                                labels=['16-18', '18-30', '31-50', '51-70', 'Over 70'])\n",
    "print(\"\\nNew age group distribution:\")\n",
    "print(df_cleaned['age_group'].value_counts().sort_index())\n",
    "\n",
    "# Check for outliers in the cleaned dataset\n",
    "outliers, lower, upper = detect_outliers(df_cleaned, 'age')\n",
    "print(\"\\nOutliers in cleaned age data:\")\n",
    "print(f\"Number of outliers: {len(outliers)}\")\n",
    "print(f\"Percentage of outliers: {(len(outliers) / len(df_cleaned) * 100):.2f}%\")\n",
    "print(f\"Boundary range: {lower:.2f} to {upper:.2f}\")\n",
    "if len(outliers) > 0:\n",
    "    print(\"Outlier values:\", sorted(outliers.values))\n",
    "df = df_cleaned.copy()"
   ]
  },
  {
   "cell_type": "code",
   "execution_count": null,
   "metadata": {},
   "outputs": [],
   "source": [
    "#Yulduz Muradova\n",
    "# copy of the cleaned dataframe\n",
    "df_no_outliers = df_cleaned.copy()\n",
    "df_final = df_no_outliers.copy()\n",
    "df_final = df_final[\n",
    "    (df_final['age'] >= 5.00) & \n",
    "    (df_final['age'] <= 53.00)\n",
    "]\n",
    "\n",
    "# final final cleaning\n",
    "print(\"Dataset size before removing final outliers:\", len(df_no_outliers))\n",
    "print(\"Final dataset size:\", len(df_final))\n",
    "print(\"Number of final outliers removed:\", len(df_no_outliers) - len(df_final))\n",
    "\n",
    "# Check the final age statistics\n",
    "print(\"\\nFinal age statistics after removing all outliers:\")\n",
    "print(df_final['age'].describe())\n",
    "\n",
    "# Check the final age group distribution\n",
    "df_final['age_group'] = pd.cut(df_final['age'],\n",
    "                              bins=[16, 18, 30, 50, 70, 100],\n",
    "                              labels=['16-18', '18-30', '31-50', '51-70', 'Over 70'])\n",
    "print(\"\\nFinal age group distribution:\")\n",
    "print(df_final['age_group'].value_counts().sort_index())\n",
    "\n",
    "# Final verification for outliers\n",
    "outliers, lower, upper = detect_outliers(df_final, 'age')\n",
    "print(\"\\nFinal verification - outliers check:\")\n",
    "print(f\"Number of outliers: {len(outliers)}\")\n",
    "print(f\"Percentage of outliers: {(len(outliers) / len(df_final) * 100):.2f}%\")\n",
    "print(f\"Boundary range: {lower:.2f} to {upper:.2f}\")\n",
    "\n",
    "# Save the final cleaned dataset\n",
    "df = df_final.copy()"
   ]
  },
  {
   "cell_type": "markdown",
   "metadata": {},
   "source": []
  }
 ],
 "metadata": {
  "kernelspec": {
   "display_name": "Python 3",
   "language": "python",
   "name": "python3"
  },
  "language_info": {
   "name": "python",
   "version": "3.13.0"
  }
 },
 "nbformat": 4,
 "nbformat_minor": 2
}
