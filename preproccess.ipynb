{
 "cells": [
  {
   "cell_type": "code",
   "execution_count": null,
   "metadata": {},
   "outputs": [],
   "source": [
    "import pandas as pd\n",
    "\n",
    "df = pd.read_csv('data.csv')\n",
    "df.dtypes\n",
    "df = df.rename(columns={'Personalized_Recommendation_Frequency': 'Personalized_Recommendation_Purchase'})\n"
   ]
  },
  {
   "cell_type": "code",
   "execution_count": null,
   "metadata": {},
   "outputs": [],
   "source": [
    "df['Timestamp'] = pd.to_datetime(df['Timestamp'])\n",
    "df['Gender'] = df['Gender'].astype('category')\n",
    "df['Personalized_Recommendation_Purchase'] = df['Personalized_Recommendation_Purchase'].astype('category')\n",
    "df['Review_Left'] = df['Review_Left'].astype('category')\n",
    "df['Review_Helpfulness'] = df['Review_Helpfulness'].astype('category')\n",
    "df['Review_Reliability'] = df['Review_Reliability'].astype('category')\n",
    "df['Recommendation_Helpfulness'] = df['Recommendation_Helpfulness'].astype('category')\n",
    "df['Add_to_Cart_Browsing'] = df['Add_to_Cart_Browsing'].astype('category')\n",
    "df['Cart_Completion_Frequency'] = df['Cart_Completion_Frequency'].astype('category')\n",
    "df['Purchase_Categories'] = df['Purchase_Categories'].astype('category')\n",
    "df['Purchase_Frequency'] = df['Purchase_Frequency'].astype('category')\n",
    "df['Browsing_Frequency'] = df['Browsing_Frequency'].astype('category')\n",
    "df['Product_Search_Method'] = df['Product_Search_Method'].astype('category')\n",
    "df['Search_Result_Exploration'] = df['Search_Result_Exploration'].astype('category')\n",
    "df['Saveforlater_Frequency'] = df['Saveforlater_Frequency'].astype('category')"
   ]
  },
  {
   "cell_type": "code",
   "execution_count": null,
   "metadata": {},
   "outputs": [],
   "source": [
    "missing_values = df.isnull().sum()\n",
    "missing_percentage = (missing_values / len(df)) * 100\n",
    "missing_report = pd.DataFrame({\n",
    "    'Missing Values': missing_values,\n",
    "    'Percentage (%)': missing_percentage\n",
    "})\n",
    "display(missing_report[missing_report['Missing Values'] > 0])"
   ]
  },
  {
   "cell_type": "code",
   "execution_count": null,
   "metadata": {},
   "outputs": [],
   "source": [
    "custom_missing = [\"Nothing\", \".\", \"Nil\"]\n",
    "df.replace(custom_missing, pd.NA, inplace=True)"
   ]
  },
  {
   "cell_type": "code",
   "execution_count": null,
   "metadata": {},
   "outputs": [],
   "source": [
    "columns_to_check = df.select_dtypes(include=['float64', 'int64'])\n",
    "\n",
    "def find_outliers_pandas(data, column):\n",
    "\tQ1 = data[column].quantile(0.25)\n",
    "\tQ3 = data[column].quantile(0.75)\n",
    "\tIQR = Q3 - Q1\n",
    "\tlower_bound = Q1 - 1.5 * IQR\n",
    "\tupper_bound = Q3 + 1.5 * IQR\n",
    "\toutliers = data[(data[column] < lower_bound) | (data[column] > upper_bound)]\n",
    "\treturn outliers\n",
    "\n",
    "outliers_dict = {}\n",
    "\n",
    "for column in columns_to_check:\n",
    "\toutliers_dict[column] = find_outliers_pandas(df, column)\n",
    "\n",
    "for column, outliers in outliers_dict.items():\n",
    "\tprint(f\"Outliers in '{column}':\")\n",
    "\tprint(outliers)\n",
    "\tprint(\"\\n\")"
   ]
  }
 ],
 "metadata": {
  "kernelspec": {
   "display_name": "Python 3",
   "language": "python",
   "name": "python3"
  },
  "language_info": {
   "name": "python",
   "version": "3.10.11"
  }
 },
 "nbformat": 4,
 "nbformat_minor": 2
}
